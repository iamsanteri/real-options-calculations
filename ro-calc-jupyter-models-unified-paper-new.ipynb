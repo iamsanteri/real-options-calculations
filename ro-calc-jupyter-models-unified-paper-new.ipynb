{
 "cells": [
  {
   "cell_type": "markdown",
   "metadata": {},
   "source": [
    "### Real Options Valuation and Monte Carlo simulation, DM and FPOM.\n",
    "\n",
    "**This is a sheet for working with all three cases investigated in Santeri's Master thesis on Real Options.**\n",
    "\n",
    "Combining previously modeled calculations into a single Python-enabled Jupyter notebook. Generalizing, modularizing and improving outputs.\n",
    "\n",
    "**Note:** To avoid errors ensure all notebook cells are executed sequentially. "
   ]
  },
  {
   "cell_type": "markdown",
   "metadata": {},
   "source": [
    "### Setup\n",
    "\n",
    "Implemented using the Conda kernel. Python version 3.9.18"
   ]
  },
  {
   "cell_type": "code",
   "execution_count": 23,
   "metadata": {},
   "outputs": [],
   "source": [
    "# Import necessary libraries\n",
    "import numpy as np\n",
    "import pandas as pd\n",
    "\n",
    "\n",
    "# Model and declare initial application state\n",
    "case_data = {\n",
    "    \"case_npvs\": np.array([]),\n",
    "    \"additional_arrays\": {\n",
    "        \"launch_costs_array\": np.array([]),\n",
    "        \"operating_inflows_array\": np.array([]),\n",
    "        \"operating_outflows_array\": np.array([]),\n",
    "    },\n",
    "    \"inputs\": {}\n",
    "}\n"
   ]
  },
  {
   "cell_type": "markdown",
   "metadata": {},
   "source": [
    "### Utilities\n",
    "\n",
    "This section implements some of the necessary utility functions used later in this notebook."
   ]
  },
  {
   "cell_type": "code",
   "execution_count": 19,
   "metadata": {},
   "outputs": [],
   "source": [
    "# This function helps form total discounted values for projects out of yearly cash flow values before simulation\n",
    "def calculate_discounted_values(values_dict, risk_rate, start_period, periods_in_operation):\n",
    "    # If the passed in values are launch costs, then we spread the that and discount it only for the years before launch.\n",
    "    return {k: sum(v / (1 + risk_rate) ** period for period in range(start_period + 1, start_period + 1 + periods_in_operation)) for k, v in values_dict.items()}"
   ]
  },
  {
   "cell_type": "markdown",
   "metadata": {},
   "source": [
    "### Import case data\n",
    "\n",
    "Supports simple copy-pasting for long spreadsheet rows. All three cases are imported below."
   ]
  },
  {
   "cell_type": "code",
   "execution_count": 20,
   "metadata": {},
   "outputs": [],
   "source": [
    "case_data[\"inputs\"][\"start_operating_after_periods\"] = 2 # After this amount of years operation starts\n",
    "case_data[\"inputs\"][\"periods_in_operation\"] = 50 # Years of operation when launched and operating\n",
    "case_data[\"inputs\"][\"operating_risk_rate\"] = 0.07 # Risk, hurdle or discount rate for operating cash flows\n",
    "case_data[\"inputs\"][\"launch_cost_risk_rate\"] = 0.03 # Risk, hurdle or discount rate for launch costs\n",
    "case_data[\"inputs\"][\"yearly_op_revenues_range\"] = {\"pess\": 7.5, \"base\": 9.5, \"opti\": 10.5} # Range of yearly operating revenues -> pess: pessimistic, base: base case, opti: optimistic\n",
    "case_data[\"inputs\"][\"yearly_op_cost_range\"] = {\"pess\": 1.5, \"base\": 1.14, \"opti\": 0.84} # Range of yearly operating costs -> pess: pessimistic, base: base case, opti: optimistic\n",
    "case_data[\"inputs\"][\"total_launch_cost_range\"] = {\"pess\": 40, \"base\": 35, \"opti\": 30} # Range of total launch costs -> pess: pessimistic, base: base case, opti: optimistic"
   ]
  },
  {
   "cell_type": "markdown",
   "metadata": {},
   "source": [
    "### Perform the Monte Carlo simulation\n",
    "\n",
    "Defines the simulation and proceeds to run it for all three business cases."
   ]
  },
  {
   "cell_type": "code",
   "execution_count": 22,
   "metadata": {},
   "outputs": [
    {
     "ename": "KeyError",
     "evalue": "'yearly_op_revenues_range'",
     "output_type": "error",
     "traceback": [
      "\u001b[0;31m---------------------------------------------------------------------------\u001b[0m",
      "\u001b[0;31mKeyError\u001b[0m                                  Traceback (most recent call last)",
      "Cell \u001b[0;32mIn[22], line 12\u001b[0m\n\u001b[1;32m      9\u001b[0m     \u001b[38;5;28;01mreturn\u001b[39;00m sample\n\u001b[1;32m     11\u001b[0m  \u001b[38;5;66;03m# Discounting on every simulation run\u001b[39;00m\n\u001b[0;32m---> 12\u001b[0m case_data[\u001b[38;5;124m\"\u001b[39m\u001b[38;5;124minputs\u001b[39m\u001b[38;5;124m\"\u001b[39m][\u001b[38;5;124m\"\u001b[39m\u001b[38;5;124mtotal_op_revenues\u001b[39m\u001b[38;5;124m\"\u001b[39m] \u001b[38;5;241m=\u001b[39m calculate_discounted_values(\u001b[43mcase_data\u001b[49m\u001b[43m[\u001b[49m\u001b[38;5;124;43m\"\u001b[39;49m\u001b[38;5;124;43myearly_op_revenues_range\u001b[39;49m\u001b[38;5;124;43m\"\u001b[39;49m\u001b[43m]\u001b[49m, case_data[\u001b[38;5;124m\"\u001b[39m\u001b[38;5;124moperating_risk_rate\u001b[39m\u001b[38;5;124m\"\u001b[39m], case_data[\u001b[38;5;124m\"\u001b[39m\u001b[38;5;124mstart_operating_after_periods\u001b[39m\u001b[38;5;124m\"\u001b[39m], case_data[\u001b[38;5;124m\"\u001b[39m\u001b[38;5;124mperiods_in_operation\u001b[39m\u001b[38;5;124m\"\u001b[39m])\n\u001b[1;32m     13\u001b[0m case_data[\u001b[38;5;124m\"\u001b[39m\u001b[38;5;124minputs\u001b[39m\u001b[38;5;124m\"\u001b[39m][\u001b[38;5;124m\"\u001b[39m\u001b[38;5;124mtotal_op_costs\u001b[39m\u001b[38;5;124m\"\u001b[39m] \u001b[38;5;241m=\u001b[39m calculate_discounted_values(case_data[\u001b[38;5;124m\"\u001b[39m\u001b[38;5;124myearly_op_cost_range\u001b[39m\u001b[38;5;124m\"\u001b[39m], case_data[\u001b[38;5;124m\"\u001b[39m\u001b[38;5;124moperating_risk_rate\u001b[39m\u001b[38;5;124m\"\u001b[39m], case_data[\u001b[38;5;124m\"\u001b[39m\u001b[38;5;124mstart_operating_after_periods\u001b[39m\u001b[38;5;124m\"\u001b[39m], case_data[\u001b[38;5;124m\"\u001b[39m\u001b[38;5;124mperiods_in_operation\u001b[39m\u001b[38;5;124m\"\u001b[39m])\n\u001b[1;32m     14\u001b[0m case_data[\u001b[38;5;124m\"\u001b[39m\u001b[38;5;124minputs\u001b[39m\u001b[38;5;124m\"\u001b[39m][\u001b[38;5;124m\"\u001b[39m\u001b[38;5;124mlaunch_cost\u001b[39m\u001b[38;5;124m\"\u001b[39m] \u001b[38;5;241m=\u001b[39m {k: \u001b[38;5;28msum\u001b[39m((v \u001b[38;5;241m/\u001b[39m case_data[\u001b[38;5;124m\"\u001b[39m\u001b[38;5;124mstart_operating_after_periods\u001b[39m\u001b[38;5;124m\"\u001b[39m]) \u001b[38;5;241m/\u001b[39m (\u001b[38;5;241m1\u001b[39m \u001b[38;5;241m+\u001b[39m case_data[\u001b[38;5;124m\"\u001b[39m\u001b[38;5;124mlaunch_cost_risk_rate\u001b[39m\u001b[38;5;124m\"\u001b[39m]) \u001b[38;5;241m*\u001b[39m\u001b[38;5;241m*\u001b[39m period \u001b[38;5;28;01mfor\u001b[39;00m period \u001b[38;5;129;01min\u001b[39;00m \u001b[38;5;28mrange\u001b[39m(\u001b[38;5;241m1\u001b[39m, case_data[\u001b[38;5;124m\"\u001b[39m\u001b[38;5;124mstart_operating_after_periods\u001b[39m\u001b[38;5;124m\"\u001b[39m] \u001b[38;5;241m+\u001b[39m \u001b[38;5;241m1\u001b[39m)) \u001b[38;5;28;01mfor\u001b[39;00m k, v \u001b[38;5;129;01min\u001b[39;00m case_data[\u001b[38;5;124m\"\u001b[39m\u001b[38;5;124mtotal_launch_cost_range\u001b[39m\u001b[38;5;124m\"\u001b[39m]\u001b[38;5;241m.\u001b[39mitems()}\n",
      "\u001b[0;31mKeyError\u001b[0m: 'yearly_op_revenues_range'"
     ]
    }
   ],
   "source": [
    "# Define number of simulation runs\n",
    "num_simulations = 100000\n",
    "\n",
    "# Create a function to simulate a single draw or sample from a triangular distribution\n",
    "def simulation_single_sample(pess, base, opti):\n",
    "    # Logic to handle drawing the triangular distribution correctly\n",
    "    low, mode, high = sorted([pess, base, opti])\n",
    "    sample = np.random.triangular(low, mode, high)\n",
    "    return sample\n",
    "\n",
    "\n",
    "# Create a function for running the Monte Carlo simulation\n",
    "def monte_carlo_simulation(launch_cost, total_op_revenues, total_op_costs, num_simulations):\n",
    "    npvs = []\n",
    "    launch_costs_array = []\n",
    "    operating_inflows_array = []\n",
    "    operating_outflows_array = []\n",
    "    average_elec_prices = []\n",
    "    storage_capacity = []\n",
    "\n",
    "    for _ in range(num_simulations):\n",
    "\n",
    "        # Discounting on every simulation run\n",
    "        case_data[\"inputs\"][\"total_op_revenues\"] = calculate_discounted_values(case_data[\"yearly_op_revenues_range\"], case_data[\"operating_risk_rate\"], case_data[\"start_operating_after_periods\"], case_data[\"periods_in_operation\"])\n",
    "        case_data[\"inputs\"][\"total_op_costs\"] = calculate_discounted_values(case_data[\"yearly_op_cost_range\"], case_data[\"operating_risk_rate\"], case_data[\"start_operating_after_periods\"], case_data[\"periods_in_operation\"])\n",
    "        case_data[\"inputs\"][\"launch_cost\"] = {k: sum((v / case_data[\"start_operating_after_periods\"]) / (1 + case_data[\"launch_cost_risk_rate\"]) ** period for period in range(1, case_data[\"start_operating_after_periods\"] + 1)) for k, v in case_data[\"total_launch_cost_range\"].items()}\n",
    "\n",
    "        simul_launch_cost = simulation_single_sample(launch_cost[\"pess\"], launch_cost[\"base\"], launch_cost[\"opti\"])\n",
    "        simul_operating_inflows = simulation_single_sample(total_op_revenues[\"pess\"], total_op_revenues[\"base\"], total_op_revenues[\"opti\"])\n",
    "        simul_operating_outflows = simulation_single_sample(total_op_costs[\"pess\"], total_op_costs[\"base\"], total_op_costs[\"opti\"])\n",
    "\n",
    "        # Out of all investment inflows substract its launch cost and total operating outflows\n",
    "        npv = simul_operating_inflows - (simul_launch_cost + simul_operating_outflows)\n",
    "\n",
    "        launch_costs_array.append(simul_launch_cost)\n",
    "        operating_inflows_array.append(simul_operating_inflows)\n",
    "        operating_outflows_array.append(simul_operating_outflows)\n",
    "        npvs.append(npv)\n",
    "    return npvs, launch_costs_array, operating_inflows_array, operating_outflows_array\n",
    "\n",
    "# Run simulations and store results each case's arrays\n",
    "case_data[\"case_npvs\"], case_data[\"additional_arrays\"][\"launch_costs_array\"], case_data[\"additional_arrays\"][\"operating_inflows_array\"], case_data[\"additional_arrays\"][\"operating_outflows_array\"] = monte_carlo_simulation(case_data[\"inputs\"][\"launch_cost\"], case_data[\"inputs\"][\"total_op_revenues\"], case_data[\"inputs\"][\"total_op_costs\"], num_simulations)"
   ]
  },
  {
   "cell_type": "markdown",
   "metadata": {},
   "source": [
    "### Exporting the data for Mariia"
   ]
  },
  {
   "cell_type": "code",
   "execution_count": 38,
   "metadata": {},
   "outputs": [],
   "source": [
    "df = pd.DataFrame({\n",
    "    'npvs': case_data[2][\"case_npvs\"],\n",
    "    'launch_costs': case_data[2][\"additional_arrays\"][\"launch_costs_array\"],\n",
    "    'operating_inflows': case_data[2][\"additional_arrays\"][\"operating_inflows_array\"],\n",
    "    'operating_outflows': case_data[2][\"additional_arrays\"][\"operating_outflows_array\"]\n",
    "})\n",
    "df.to_csv('specialized_case_data.csv', index=False)"
   ]
  }
 ],
 "metadata": {
  "kernelspec": {
   "display_name": "base",
   "language": "python",
   "name": "python3"
  },
  "language_info": {
   "codemirror_mode": {
    "name": "ipython",
    "version": 3
   },
   "file_extension": ".py",
   "mimetype": "text/x-python",
   "name": "python",
   "nbconvert_exporter": "python",
   "pygments_lexer": "ipython3",
   "version": "3.9.18"
  }
 },
 "nbformat": 4,
 "nbformat_minor": 2
}
